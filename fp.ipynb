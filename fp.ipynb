{
  "nbformat": 4,
  "nbformat_minor": 0,
  "metadata": {
    "colab": {
      "name": "Untitled6.ipynb",
      "private_outputs": true,
      "provenance": []
    },
    "kernelspec": {
      "name": "python3",
      "display_name": "Python 3"
    },
    "language_info": {
      "name": "python"
    },
    "accelerator": "GPU"
  },
  "cells": [
    {
      "cell_type": "code",
      "source": [
        "!pip install deep-translator\n",
        "!pip install googletrans"
      ],
      "metadata": {
        "id": "k9jkfi5JJJZA"
      },
      "execution_count": null,
      "outputs": []
    },
    {
      "cell_type": "code",
      "execution_count": null,
      "metadata": {
        "id": "1Od1sWB7EOy4"
      },
      "outputs": [],
      "source": [
        "import pandas as pd\n",
        "from deep_translator import GoogleTranslator\n",
        "from googletrans import Translator"
      ]
    },
    {
      "cell_type": "code",
      "source": [
        "from google.colab import drive\n",
        "drive.mount('/content/gdrive')"
      ],
      "metadata": {
        "id": "Iy8VplmvG_cB"
      },
      "execution_count": null,
      "outputs": []
    },
    {
      "cell_type": "code",
      "source": [
        "% cd /content/gdrive/My Drive/Final Project"
      ],
      "metadata": {
        "id": "CzHsXW8RISuz"
      },
      "execution_count": null,
      "outputs": []
    },
    {
      "cell_type": "code",
      "source": [
        "train=pd.read_csv('training.csv')\n",
        "test=pd.read_csv('test.csv')\n",
        "valid=pd.read_csv('validation.csv')"
      ],
      "metadata": {
        "id": "TGoXC76AIk_b"
      },
      "execution_count": null,
      "outputs": []
    },
    {
      "cell_type": "code",
      "source": [
        "train['text'][0]"
      ],
      "metadata": {
        "id": "EAGEfa_GIy1b"
      },
      "execution_count": null,
      "outputs": []
    },
    {
      "cell_type": "code",
      "source": [
        "idx=train.index"
      ],
      "metadata": {
        "id": "HFhNwkzzPweQ"
      },
      "execution_count": null,
      "outputs": []
    },
    {
      "cell_type": "code",
      "source": [
        "test.info()"
      ],
      "metadata": {
        "id": "nnhpg-RQXE6C"
      },
      "execution_count": null,
      "outputs": []
    },
    {
      "cell_type": "code",
      "source": [
        "valid.info()"
      ],
      "metadata": {
        "id": "ilsmUhoOXJ0L"
      },
      "execution_count": null,
      "outputs": []
    },
    {
      "cell_type": "code",
      "source": [
        "train.info()"
      ],
      "metadata": {
        "id": "gNs0ye5oXBQa"
      },
      "execution_count": null,
      "outputs": []
    },
    {
      "cell_type": "code",
      "source": [
        "train2=train.sample(frac=1,random_state=913).head(2000)\n",
        "train2=train2.reset_index(drop=True)\n",
        "train2"
      ],
      "metadata": {
        "id": "DKOQzNKBYSDq"
      },
      "execution_count": null,
      "outputs": []
    },
    {
      "cell_type": "code",
      "source": [
        "#define pipeline translator\n",
        "indo=GoogleTranslator(result='auto',target='id')"
      ],
      "metadata": {
        "id": "F_ytqDj5J7ER"
      },
      "execution_count": null,
      "outputs": []
    },
    {
      "cell_type": "code",
      "source": [
        "idx=train2.index"
      ],
      "metadata": {
        "id": "jiGQC_8hhTw_"
      },
      "execution_count": null,
      "outputs": []
    },
    {
      "cell_type": "code",
      "source": [
        ""
      ],
      "metadata": {
        "id": "H_W-QAyINcEe"
      },
      "execution_count": null,
      "outputs": []
    },
    {
      "cell_type": "code",
      "source": [
        "hasil=[]\n",
        "for i in idx:\n",
        "  indos=indo.translate(train2['text'][i])\n",
        "  hasil.append(indos)"
      ],
      "metadata": {
        "id": "E1ZyQRMeQLBv"
      },
      "execution_count": null,
      "outputs": []
    },
    {
      "cell_type": "code",
      "source": [
        "train2['indo']=hasil"
      ],
      "metadata": {
        "id": "dh2toWtqmN3v"
      },
      "execution_count": null,
      "outputs": []
    },
    {
      "cell_type": "code",
      "source": [
        "train_indo=train2[['indo','label']]"
      ],
      "metadata": {
        "id": "B3yqJoArmVWT"
      },
      "execution_count": null,
      "outputs": []
    },
    {
      "cell_type": "code",
      "source": [
        "train_indo.sample(10)"
      ],
      "metadata": {
        "id": "CE_5Sqdkm-yH"
      },
      "execution_count": null,
      "outputs": []
    },
    {
      "cell_type": "code",
      "source": [
        "train_indo.sample()"
      ],
      "metadata": {
        "id": "GGNTOueZoFG5"
      },
      "execution_count": null,
      "outputs": []
    },
    {
      "cell_type": "code",
      "source": [
        "train_indo['label'].unique()"
      ],
      "metadata": {
        "id": "XkRU963julJ-"
      },
      "execution_count": null,
      "outputs": []
    },
    {
      "cell_type": "code",
      "source": [
        "train_indo.isna().sum()"
      ],
      "metadata": {
        "id": "l4GzbZ5BzFyv"
      },
      "execution_count": null,
      "outputs": []
    },
    {
      "cell_type": "code",
      "source": [
        "train_indo.duplicated().sum()\n",
        "train_indo=train_indo.drop_duplicates()"
      ],
      "metadata": {
        "id": "iB7nCanEzM5J"
      },
      "execution_count": null,
      "outputs": []
    },
    {
      "cell_type": "code",
      "source": [
        "text=train['text']"
      ],
      "metadata": {
        "id": "GZrH82EIK0Q4"
      },
      "execution_count": null,
      "outputs": []
    },
    {
      "cell_type": "code",
      "source": [
        "hasil=[]\n",
        "for i in text[0]:\n",
        "  print(i)"
      ],
      "metadata": {
        "id": "smQjtG40LS_u"
      },
      "execution_count": null,
      "outputs": []
    }
  ]
}
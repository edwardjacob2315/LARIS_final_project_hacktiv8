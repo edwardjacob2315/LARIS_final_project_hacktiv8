{
  "nbformat": 4,
  "nbformat_minor": 0,
  "metadata": {
    "colab": {
      "name": "fp.ipynb",
      "private_outputs": true,
      "provenance": []
    },
    "kernelspec": {
      "name": "python3",
      "display_name": "Python 3"
    },
    "language_info": {
      "name": "python"
    },
    "accelerator": "GPU"
  },
  "cells": [
    {
      "cell_type": "code",
      "source": [
        "!pip install deep-translator\n",
        "!pip install googletrans"
      ],
      "metadata": {
        "id": "k9jkfi5JJJZA"
      },
      "execution_count": null,
      "outputs": []
    },
    {
      "cell_type": "code",
      "execution_count": null,
      "metadata": {
        "id": "1Od1sWB7EOy4"
      },
      "outputs": [],
      "source": [
        "import pandas as pd\n",
        "from deep_translator import GoogleTranslator\n",
        "from googletrans import Translator\n",
        "import re\n",
        "import string\n",
        "from nltk.corpus import stopwords\n",
        "import nltk\n",
        "from nltk.tokenize import word_tokenize"
      ]
    },
    {
      "cell_type": "code",
      "source": [
        "from google.colab import drive\n",
        "drive.mount('/content/gdrive')"
      ],
      "metadata": {
        "id": "Iy8VplmvG_cB"
      },
      "execution_count": null,
      "outputs": []
    },
    {
      "cell_type": "code",
      "source": [
        "% cd /content/gdrive/My Drive/Final Project"
      ],
      "metadata": {
        "id": "CzHsXW8RISuz"
      },
      "execution_count": null,
      "outputs": []
    },
    {
      "cell_type": "code",
      "source": [
        "train=pd.read_csv('training.csv')\n",
        "test=pd.read_csv('test.csv')\n",
        "valid=pd.read_csv('validation.csv')"
      ],
      "metadata": {
        "id": "TGoXC76AIk_b"
      },
      "execution_count": null,
      "outputs": []
    },
    {
      "cell_type": "code",
      "source": [
        "train['text'][0]"
      ],
      "metadata": {
        "id": "EAGEfa_GIy1b"
      },
      "execution_count": null,
      "outputs": []
    },
    {
      "cell_type": "code",
      "source": [
        "idx=train.index"
      ],
      "metadata": {
        "id": "HFhNwkzzPweQ"
      },
      "execution_count": null,
      "outputs": []
    },
    {
      "cell_type": "code",
      "source": [
        "test.info()"
      ],
      "metadata": {
        "id": "nnhpg-RQXE6C"
      },
      "execution_count": null,
      "outputs": []
    },
    {
      "cell_type": "code",
      "source": [
        "valid.info()"
      ],
      "metadata": {
        "id": "ilsmUhoOXJ0L"
      },
      "execution_count": null,
      "outputs": []
    },
    {
      "cell_type": "code",
      "source": [
        "train.info()"
      ],
      "metadata": {
        "id": "gNs0ye5oXBQa"
      },
      "execution_count": null,
      "outputs": []
    },
    {
      "cell_type": "code",
      "source": [
        "train2=train.sample(frac=1,random_state=913)\n",
        "train2=train2.reset_index(drop=True)\n",
        "train2"
      ],
      "metadata": {
        "id": "DKOQzNKBYSDq"
      },
      "execution_count": null,
      "outputs": []
    },
    {
      "cell_type": "code",
      "source": [
        "train2.to_csv('train_shuffled.csv')"
      ],
      "metadata": {
        "id": "d4qVLO2ZLNJY"
      },
      "execution_count": null,
      "outputs": []
    },
    {
      "cell_type": "code",
      "source": [
        "#define pipeline translator\n",
        "indo=GoogleTranslator(result='auto',target='id')"
      ],
      "metadata": {
        "id": "F_ytqDj5J7ER"
      },
      "execution_count": null,
      "outputs": []
    },
    {
      "cell_type": "code",
      "source": [
        "idx=train2.index"
      ],
      "metadata": {
        "id": "jiGQC_8hhTw_"
      },
      "execution_count": null,
      "outputs": []
    },
    {
      "cell_type": "code",
      "source": [
        "hasil=[]\n",
        "for i in idx:\n",
        "  indos=indo.translate(train2['text'][i])\n",
        "  hasil.append(indos)"
      ],
      "metadata": {
        "id": "E1ZyQRMeQLBv"
      },
      "execution_count": null,
      "outputs": []
    },
    {
      "cell_type": "code",
      "source": [
        "train2['indo']=hasil"
      ],
      "metadata": {
        "id": "dh2toWtqmN3v"
      },
      "execution_count": null,
      "outputs": []
    },
    {
      "cell_type": "code",
      "source": [
        "train_indo=train2[['indo','label']]"
      ],
      "metadata": {
        "id": "B3yqJoArmVWT"
      },
      "execution_count": null,
      "outputs": []
    },
    {
      "cell_type": "code",
      "source": [
        "train_indo.sample(10)"
      ],
      "metadata": {
        "id": "CE_5Sqdkm-yH"
      },
      "execution_count": null,
      "outputs": []
    },
    {
      "cell_type": "markdown",
      "source": [
        "# Data Preprocessing"
      ],
      "metadata": {
        "id": "otInaOj0GkDF"
      }
    },
    {
      "cell_type": "code",
      "source": [
        "#lowering\n",
        "train_indo['indo']=train_indo['indo'].apply(lambda x: x.lower())\n"
      ],
      "metadata": {
        "id": "jiGevyAHGmNa"
      },
      "execution_count": null,
      "outputs": []
    },
    {
      "cell_type": "markdown",
      "source": [
        "for i in idx:\n",
        "  indos=indo.translate(train2['text'][i])\n",
        "  hasil.append(indos)"
      ],
      "metadata": {
        "id": "0B_uSX0YN1Yz"
      }
    },
    {
      "cell_type": "code",
      "source": [
        "idx2=train_indo.index\n",
        "idx2"
      ],
      "metadata": {
        "id": "RRsutwm7OAYg"
      },
      "execution_count": null,
      "outputs": []
    },
    {
      "cell_type": "code",
      "source": [
        "for i in idx2:\n",
        "  train_indo['indo'][i] = re.sub(r'\\d+', '', train_indo['indo'][i])"
      ],
      "metadata": {
        "id": "muZ34lewJDZ3"
      },
      "execution_count": null,
      "outputs": []
    },
    {
      "cell_type": "code",
      "source": [
        "def remove_punctuation(text):\n",
        "    punctuationfree=\"\".join([i for i in text if i not in string.punctuation])\n",
        "    return punctuationfree\n",
        "#storing the puntuation free text\n",
        "train_indo['indo']= train_indo['indo'].apply(lambda x:remove_punctuation(x))"
      ],
      "metadata": {
        "id": "DN0lnCjlOPHI"
      },
      "execution_count": null,
      "outputs": []
    },
    {
      "cell_type": "code",
      "source": [
        "stop_words=set(stopwords.words('indonesian'))"
      ],
      "metadata": {
        "id": "Fk8CWK_WQBzk"
      },
      "execution_count": null,
      "outputs": []
    },
    {
      "cell_type": "code",
      "source": [
        "train_indo['indo_token']=train_indo['indo']\n",
        "for i in idx2:\n",
        "  train_indo['indo_token'][i]=word_tokenize(train_indo['indo'][i])"
      ],
      "metadata": {
        "id": "9F5_UcqQT8FJ"
      },
      "execution_count": null,
      "outputs": []
    },
    {
      "cell_type": "code",
      "source": [
        "def remove_stopwords(text):\n",
        "    output= [i for i in text if i not in stop_words]\n",
        "    return output"
      ],
      "metadata": {
        "id": "ZymOwq1-Wxt0"
      },
      "execution_count": null,
      "outputs": []
    },
    {
      "cell_type": "code",
      "source": [
        "train_indo['indo_stop']= train_indo['indo_token'].apply(lambda x:remove_stopwords(x))"
      ],
      "metadata": {
        "id": "U48_0QdDVKrD"
      },
      "execution_count": null,
      "outputs": []
    },
    {
      "cell_type": "code",
      "source": [
        "train_indo.to_csv('train_indo_token_stopwords.csv')"
      ],
      "metadata": {
        "id": "nwuZ9jloXGL_"
      },
      "execution_count": null,
      "outputs": []
    }
  ]
}